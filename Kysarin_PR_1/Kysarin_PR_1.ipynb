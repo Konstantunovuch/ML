{
 "cells": [
  {
   "cell_type": "markdown",
   "id": "e2ad055d-7ff9-4c6d-b6a9-3aff6895c68d",
   "metadata": {},
   "source": [
    "### Лабораторна Робота №1\n",
    "Робота Кисаріна Микити, 8 варіант"
   ]
  },
  {
   "cell_type": "code",
   "execution_count": 1,
   "id": "d067f84e-5d09-42ec-bfad-e023efc844e7",
   "metadata": {},
   "outputs": [],
   "source": [
    "import numpy as np\n",
    "import math"
   ]
  },
  {
   "cell_type": "code",
   "execution_count": 2,
   "id": "3061bb58-a668-469b-bdc4-8ec8bb4acce0",
   "metadata": {},
   "outputs": [
    {
     "data": {
      "text/plain": [
       "array([30, 28, 26, 24, 22, 20, 18, 16, 14, 12, 10,  8,  6,  4,  2])"
      ]
     },
     "execution_count": 2,
     "metadata": {},
     "output_type": "execute_result"
    }
   ],
   "source": [
    "# Завдання №1. Створіть одновимірний масив (вектор) зі спадаючою послідовністю чисел, де кожне наступне число менше попереднього на 2, починаючи з 30, та виведіть його значення.\n",
    "array_1 = np.arange(30, 0, -2)\n",
    "array_1"
   ]
  },
  {
   "cell_type": "code",
   "execution_count": 3,
   "id": "5db1bb83-7544-4690-82e4-6447fb07b3cd",
   "metadata": {},
   "outputs": [
    {
     "data": {
      "text/plain": [
       "matrix([[     1,      2,      6],\n",
       "        [    24,    120,    720],\n",
       "        [  5040,  40320, 362880]])"
      ]
     },
     "execution_count": 3,
     "metadata": {},
     "output_type": "execute_result"
    }
   ],
   "source": [
    "# Завдання №2. Створіть двовимірний масив (матрицю) розміром 3x3, заповніть його значеннями факторіалів натуральних чисел, починаючи з 1, та виведіть його значення.\n",
    "rows, cols = 3, 3\n",
    "matrix = np.matrix([[math.factorial(i * cols + j + 1) for j in range(cols)] for i in range(rows)])\n",
    "matrix"
   ]
  },
  {
   "cell_type": "code",
   "execution_count": 4,
   "id": "6f065176-c9f2-4304-a1b7-7094ddc66767",
   "metadata": {},
   "outputs": [
    {
     "data": {
      "text/plain": [
       "array([[ 6,  9, 10,  0],\n",
       "       [ 3,  4,  6,  7],\n",
       "       [ 9, 10,  0,  7],\n",
       "       [ 3,  2,  2, 10]])"
      ]
     },
     "execution_count": 4,
     "metadata": {},
     "output_type": "execute_result"
    }
   ],
   "source": [
    "# Завдання №3. Створіть масив розміром 4x4, заповніть його випадковими цілими числами від 1 до 10 та виведіть його значення.\n",
    "matrix = np.random.randint(11, size = (4, 4))\n",
    "matrix"
   ]
  },
  {
   "cell_type": "code",
   "execution_count": 5,
   "id": "0f69910b-ada9-40d2-9249-9211f8cb28b3",
   "metadata": {},
   "outputs": [
    {
     "name": "stdout",
     "output_type": "stream",
     "text": [
      "[[0.00606486 0.48196177 0.62350142 0.73063518 0.97900187 0.92839538]\n",
      " [0.75016605 0.57264015 0.92865201 0.02056245 0.82327034 0.00158541]\n",
      " [0.28240302 0.08458839 0.82260191 0.90320705 0.45688568 0.00526636]\n",
      " [0.61265567 0.35529953 0.44287645 0.22342557 0.24519779 0.19077617]\n",
      " [0.46670193 0.43247502 0.22219104 0.42822438 0.78903932 0.03583123]\n",
      " [0.98674129 0.42276072 0.16215127 0.70949449 0.86388708 0.26474879]]\n"
     ]
    },
    {
     "data": {
      "text/plain": [
       "2.678520605866688"
      ]
     },
     "execution_count": 5,
     "metadata": {},
     "output_type": "execute_result"
    }
   ],
   "source": [
    "# Завдання №4. Створіть масив розміром 6x6, заповніть його випадковими дійсними числами в діапазоні від 0 до 1 та обчисліть суму всіх діагональних елементів.\n",
    "matrix = np.random.rand(6, 6)\n",
    "print(matrix)\n",
    "np.trace(matrix)"
   ]
  },
  {
   "cell_type": "code",
   "execution_count": 6,
   "id": "aeed6715-7c4e-475f-ab60-d5bfb95054fc",
   "metadata": {},
   "outputs": [
    {
     "name": "stdout",
     "output_type": "stream",
     "text": [
      "Додавання: [ 5.65892071 -7.48709315  5.49812301  4.6043679 ]\n",
      "Віднімання: [-0.43096205 -0.24687186  8.02490797 -9.64367912]\n",
      "Множення: [  7.95941383  13.99890451  -8.54244784 -17.95008583]\n"
     ]
    }
   ],
   "source": [
    "# Завдання №5. Створіть два одновимірних масиви розміром 4, заповніть їх випадковими дійсними числами від -10 до 10 та виконайте на них поелементні операції додавання, віднімання та множення.\n",
    "array_1 = np.random.uniform(low=-10, high=10, size=4)\n",
    "array_2 = np.random.uniform(low=-10, high=10, size=4)\n",
    "print(\"Додавання:\", array_1 + array_2)\n",
    "print(\"Віднімання:\", array_1 - array_2)\n",
    "print(\"Множення:\", array_1 * array_2)"
   ]
  },
  {
   "cell_type": "code",
   "execution_count": 7,
   "id": "10cf921f-599a-4b44-8640-af930d4d5465",
   "metadata": {},
   "outputs": [
    {
     "data": {
      "text/plain": [
       "array([[13, 11, 18, 12],\n",
       "       [31, 33, 36, 26],\n",
       "       [21, 17, 26, 14],\n",
       "       [17, 17, 23, 14]])"
      ]
     },
     "execution_count": 7,
     "metadata": {},
     "output_type": "execute_result"
    }
   ],
   "source": [
    "# Завдання №6. Створіть дві матриці 4x4, заповніть їх довільними цілими числами від 1 до 5 та знайдіть їх добуток.\n",
    "matrix_1 = np.random.randint(1, 6, size=16).reshape(4, 4)\n",
    "matrix_2 = np.random.randint(1, 6, size=16).reshape(4, 4)\n",
    "np.matmul(matrix_1, matrix_2)"
   ]
  },
  {
   "cell_type": "code",
   "execution_count": 8,
   "id": "d69d5461-2aa0-4994-8e12-ba00cbac8026",
   "metadata": {},
   "outputs": [
    {
     "name": "stdout",
     "output_type": "stream",
     "text": [
      "[[30 13  8]\n",
      " [40 19 11]]\n"
     ]
    }
   ],
   "source": [
    "# Завдання №7. Створіть дві матриці розміром 2x3 та 3x3, заповніть їх випадковими цілими числами в діапазоні від 1 до 4 та перемножте їх між собою.\n",
    "matrix_1 = np.array(np.random.randint(1,5, size=(2,3)))\n",
    "matrix_2 = np.array(np.random.randint(1,5, size=(3,3)))\n",
    "result = np.dot(matrix_1, matrix_2)\n",
    "print(result)"
   ]
  },
  {
   "cell_type": "code",
   "execution_count": 9,
   "id": "c75ffb77-24e1-4343-9277-3f13e4f2ccae",
   "metadata": {},
   "outputs": [
    {
     "data": {
      "text/plain": [
       "array([[ 0.65909091, -0.84090909, -0.13636364],\n",
       "       [-0.04545455, -0.04545455,  0.18181818],\n",
       "       [-0.11363636,  0.38636364, -0.04545455]])"
      ]
     },
     "execution_count": 9,
     "metadata": {},
     "output_type": "execute_result"
    }
   ],
   "source": [
    "# Завдання №8. Створіть матрицю розміром 3x3, заповніть її випадковими цілими числами в діапазоні від 1 до 7 та знайдіть її обернену матрицю.\n",
    "matrix = np.array(np.random.randint(1,8, size=(3,3)))\n",
    "np.linalg.inv(matrix)"
   ]
  },
  {
   "cell_type": "code",
   "execution_count": 10,
   "id": "624270ab-44ec-43a6-ae6c-f46bfbfbeb13",
   "metadata": {},
   "outputs": [
    {
     "data": {
      "text/plain": [
       "array([[-3.34052672, -2.19655761, -2.27911269, -2.3316481 , -4.56561934],\n",
       "       [ 1.44622898,  3.54561249, -4.63942892,  1.23050672, -1.35236193],\n",
       "       [ 2.54082578, -0.46285652, -0.40122811, -4.78237765,  3.76013016],\n",
       "       [-2.47449467, -2.69968317,  3.80157566,  1.43463146,  3.42554131],\n",
       "       [ 0.03372339,  4.58329437,  2.92237739, -4.53706479,  2.83810865]])"
      ]
     },
     "execution_count": 10,
     "metadata": {},
     "output_type": "execute_result"
    }
   ],
   "source": [
    "# Завдання №9. Створіть матрицю розміром 5x5, заповніть її випадковими дійсними числами в діапазоні від -5 до 5 та транспонуйте її.\n",
    "matrix = np.random.uniform(low=-5, high=5, size=25).reshape(5, 5)\n",
    "np.transpose(matrix)"
   ]
  },
  {
   "cell_type": "code",
   "execution_count": 11,
   "id": "331a768d-5c6a-4783-a092-de7fcb6946ed",
   "metadata": {},
   "outputs": [
    {
     "name": "stdout",
     "output_type": "stream",
     "text": [
      "[[ 9.91595416]\n",
      " [13.16783805]\n",
      " [16.57343539]]\n"
     ]
    }
   ],
   "source": [
    "# Завдання №10. Створіть матрицю розміром 3x4 та вектор розміром 4x1, заповніть матрицю випадковими цілими числами в діапазоні від 1 до 10, а вектор - випадковими дійсними числами від 0 до 1 і знайдіть добуток матриці на вектор.\n",
    "matrix = np.array(np.random.randint(1,11, size=(3, 4)))\n",
    "vector = np.array(np.random.rand(4, 1))\n",
    "result = np.dot(matrix, vector)\n",
    "print(result)"
   ]
  },
  {
   "cell_type": "code",
   "execution_count": 12,
   "id": "e5e94848-2734-4dc6-ab8d-109ac263974a",
   "metadata": {},
   "outputs": [
    {
     "name": "stdout",
     "output_type": "stream",
     "text": [
      "[[1.07603951]\n",
      " [0.77480206]]\n"
     ]
    }
   ],
   "source": [
    "# Завдання №11. Створіть матрицю розміром 2x3 та вектор розміром 3x1, заповніть матрицю випадковими дійсними числами від 0 до 1, а вектор - випадковими дійсними числами від 0 до 1, і знайдіть добуток матриці на вектор.\n",
    "matrix = np.array(np.random.rand(2, 3))\n",
    "vector = np.array(np.random.rand(3, 1))\n",
    "result = np.dot(matrix, vector)\n",
    "print(result)"
   ]
  },
  {
   "cell_type": "code",
   "execution_count": 13,
   "id": "044d49a2-4b58-4ad2-ba03-fe9cc603a9d5",
   "metadata": {},
   "outputs": [
    {
     "data": {
      "text/plain": [
       "array([[3.5       , 3.        , 1.        , 2.        , 1.66666667,\n",
       "        0.875     , 4.        , 3.33333333, 0.375     ],\n",
       "       [1.        , 0.6       , 0.28571429, 0.33333333, 1.4       ,\n",
       "        0.5       , 0.28571429, 0.33333333, 0.8       ],\n",
       "       [0.4       , 3.33333333, 1.125     , 0.8       , 0.8       ,\n",
       "        0.5       , 1.        , 1.66666667, 1.75      ],\n",
       "       [1.6       , 0.6       , 1.66666667, 1.11111111, 8.        ,\n",
       "        0.88888889, 2.25      , 2.66666667, 1.4       ],\n",
       "       [1.        , 3.        , 1.16666667, 1.16666667, 0.88888889,\n",
       "        1.33333333, 0.57142857, 0.2       , 0.14285714],\n",
       "       [4.        , 5.        , 1.25      , 0.16666667, 7.        ,\n",
       "        0.5       , 0.22222222, 0.33333333, 0.5       ],\n",
       "       [3.        , 0.75      , 0.2       , 5.        , 2.25      ,\n",
       "        1.33333333, 0.55555556, 0.125     , 7.        ],\n",
       "       [1.4       , 3.33333333, 0.9       , 0.3       , 0.5       ,\n",
       "        2.25      , 0.5       , 3.5       , 0.22222222],\n",
       "       [9.        , 0.71428571, 0.11111111, 0.66666667, 4.        ,\n",
       "        0.2       , 0.66666667, 1.33333333, 2.        ]])"
      ]
     },
     "execution_count": 13,
     "metadata": {},
     "output_type": "execute_result"
    }
   ],
   "source": [
    "# Завдання №12. Створіть дві матриці розміром 9x9, заповніть їх випадковими цілими числами в діапазоні від 1 до 10 та знайдіть відношення елементів другої матриці до першої (поелементне ділення).\n",
    "matrix_1 = np.array(np.random.randint(1,11, size=(9, 9)))\n",
    "matrix_2 = np.array(np.random.randint(1,11, size=(9, 9)))\n",
    "np.divide(matrix_2, matrix_1)"
   ]
  },
  {
   "cell_type": "code",
   "execution_count": 14,
   "id": "4e002c8f-869a-4f38-bb6d-8d39982fd0cb",
   "metadata": {},
   "outputs": [
    {
     "name": "stdout",
     "output_type": "stream",
     "text": [
      "[[ 80  88  59  87  67  85  72  85 100]\n",
      " [ 78  81  54  75  55  76  62  84  82]\n",
      " [ 91  93  70  97  87 107  83 104 111]\n",
      " [ 69  73  50  72  58  80  64  72  82]\n",
      " [ 69  72  54  76  65  81  62  72  88]\n",
      " [ 74  73  50  65  63  69  54  66  80]\n",
      " [ 56  57  48  50  46  60  59  60  65]\n",
      " [ 54  55  45  56  51  68  64  61  67]\n",
      " [ 68  72  56  81  63  83  69  80  89]]\n"
     ]
    }
   ],
   "source": [
    "# Завдання №13. Створіть дві матриці розміром 9x9, заповніть їх випадковими цілими числами в діапазоні від 1 до 5 та знайдіть їх добуток\n",
    "matrix_1 = np.array(np.random.randint(1,6, size=(9, 9)))\n",
    "matrix_2 = np.array(np.random.randint(1,6, size=(9, 9)))\n",
    "result = np.dot(matrix_1, matrix_2)\n",
    "print(result)"
   ]
  },
  {
   "cell_type": "code",
   "execution_count": 15,
   "id": "e0d79352-8202-472e-b16b-c26822b8df53",
   "metadata": {},
   "outputs": [
    {
     "name": "stdout",
     "output_type": "stream",
     "text": [
      "-1.1111111111111112\n"
     ]
    }
   ],
   "source": [
    "# Завдання №14. Створіть матрицю розміром 3x3, заповніть її випадковими цілими числами в діапазоні від -5 до 5 та знайдіть середнє арифметичне значення елементів матриці.\n",
    "matrix_1 = np.array(np.random.randint(-5,5, size=(3, 3)))\n",
    "print(matrix_1.mean())"
   ]
  },
  {
   "cell_type": "code",
   "execution_count": 2,
   "id": "564b8671-2f53-46b1-a34d-1df5bb760402",
   "metadata": {},
   "outputs": [
    {
     "data": {
      "text/plain": [
       "array([0.45292043, 0.33362422, 0.35796271, 0.10041353, 0.18005849,\n",
       "       0.30374897, 0.50540112, 0.35036363, 0.09835943, 0.39367852])"
      ]
     },
     "execution_count": 2,
     "metadata": {},
     "output_type": "execute_result"
    }
   ],
   "source": [
    "# Завдання №15. Створіть матрицю розміром 10x10, заповніть її випадковими дійсними числами в діапазоні від -2 до 2 та знайдіть вектор-стовпчик, що містить найменше за модулем значення елементу у кожному рядку матриці.\n",
    "matrix = np.random.uniform(low=-2, high=2, size=100).reshape(10, 10)\n",
    "vector = np.min(np.abs(matrix), axis=1)\n",
    "vector"
   ]
  },
  {
   "cell_type": "code",
   "execution_count": 17,
   "id": "a2a2642c-de14-41dd-8813-6e845fbf8687",
   "metadata": {},
   "outputs": [],
   "source": [
    "# Висновки:\n",
    "# У даній лабораторній роботі проведено роботу з бібліотекою Numpy та розібрано на практиці її методи створення масивів, матриць та векторів, виконано завдання з різними маніпуляціями проведеними над ними."
   ]
  }
 ],
 "metadata": {
  "kernelspec": {
   "display_name": "Python 3 (ipykernel)",
   "language": "python",
   "name": "python3"
  },
  "language_info": {
   "codemirror_mode": {
    "name": "ipython",
    "version": 3
   },
   "file_extension": ".py",
   "mimetype": "text/x-python",
   "name": "python",
   "nbconvert_exporter": "python",
   "pygments_lexer": "ipython3",
   "version": "3.9.10"
  }
 },
 "nbformat": 4,
 "nbformat_minor": 5
}
